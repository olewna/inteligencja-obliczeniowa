{
 "cells": [
  {
   "cell_type": "code",
   "execution_count": 4,
   "metadata": {},
   "outputs": [],
   "source": [
    "import math"
   ]
  },
  {
   "cell_type": "code",
   "execution_count": 5,
   "metadata": {},
   "outputs": [],
   "source": [
    "def forwardPass(wiek,waga,wzrost):\n",
    "    hidden1 = (0.80109 + wiek * -0.46122 + waga * 0.97314 + wzrost * -0.39203)\n",
    "    hidden1_po_aktywacji = 1 / (1+ (math.e ** -hidden1))\n",
    "    hidden2 = (0.43529 + wiek * 0.78548 + waga * 2.10584 + wzrost * -0.57847)\n",
    "    hidden2_po_aktywacji = 1 / (1+ (math.e ** -hidden2))\n",
    "    output = (-0.2368 + 1.03775 * hidden2_po_aktywacji + -0.81546 * hidden1_po_aktywacji)\n",
    "    return output"
   ]
  },
  {
   "cell_type": "code",
   "execution_count": 9,
   "metadata": {},
   "outputs": [
    {
     "name": "stdout",
     "output_type": "stream",
     "text": [
      "0.798534188006313\n",
      "0.8009499165011527\n",
      "-0.0145099999999998\n",
      "0.8009329715279782\n",
      "0.8009499999938147\n",
      "0.8009499999978289\n",
      "0.015182398672493824\n"
     ]
    }
   ],
   "source": [
    "print(forwardPass(23,75,176))\n",
    "print(forwardPass(25,67,180))\n",
    "print(forwardPass(28,120,175))\n",
    "print(forwardPass(22,65,165))\n",
    "print(forwardPass(46,70,187))\n",
    "print(forwardPass(50,68,180))\n",
    "print(forwardPass(48,97,178))"
   ]
  }
 ],
 "metadata": {
  "kernelspec": {
   "display_name": "Python 3",
   "language": "python",
   "name": "python3"
  },
  "language_info": {
   "codemirror_mode": {
    "name": "ipython",
    "version": 3
   },
   "file_extension": ".py",
   "mimetype": "text/x-python",
   "name": "python",
   "nbconvert_exporter": "python",
   "pygments_lexer": "ipython3",
   "version": "3.10.1"
  },
  "orig_nbformat": 4
 },
 "nbformat": 4,
 "nbformat_minor": 2
}
