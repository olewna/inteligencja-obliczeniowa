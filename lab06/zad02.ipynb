{
 "cells": [
  {
   "cell_type": "code",
   "execution_count": 107,
   "metadata": {},
   "outputs": [],
   "source": [
    "import pandas as pd\n",
    "from sklearn.model_selection import train_test_split\n",
    "from sklearn.neural_network import MLPClassifier\n",
    "from sklearn.metrics import accuracy_score"
   ]
  },
  {
   "cell_type": "code",
   "execution_count": 108,
   "metadata": {},
   "outputs": [],
   "source": [
    "irys = pd.read_csv(\"iris.csv\")\n",
    "\n",
    "all_inputs = irys[['sepal.length','sepal.width','petal.length','petal.width']].values\n",
    "all_classes = irys['species'].values\n",
    "\n",
    "(train_inputs, test_inputs, train_labels, test_labels) = train_test_split(all_inputs, all_classes, train_size=0.7, random_state=278779)"
   ]
  },
  {
   "cell_type": "code",
   "execution_count": 109,
   "metadata": {},
   "outputs": [
    {
     "name": "stdout",
     "output_type": "stream",
     "text": [
      "0.35555555555555557\n"
     ]
    }
   ],
   "source": [
    "mlp = MLPClassifier(hidden_layer_sizes=(2),max_iter=3000,random_state=278779)\n",
    "\n",
    "mlp.fit(train_inputs, train_labels)\n",
    "\n",
    "predictions_test = mlp.predict(test_inputs)\n",
    "print(accuracy_score(predictions_test, test_labels))"
   ]
  },
  {
   "cell_type": "code",
   "execution_count": 110,
   "metadata": {},
   "outputs": [
    {
     "name": "stdout",
     "output_type": "stream",
     "text": [
      "0.9777777777777777\n"
     ]
    }
   ],
   "source": [
    "mlp = MLPClassifier(hidden_layer_sizes=(3),max_iter=3000,random_state=278779)\n",
    "\n",
    "mlp.fit(train_inputs, train_labels)\n",
    "\n",
    "predictions_test = mlp.predict(test_inputs)\n",
    "print(accuracy_score(predictions_test, test_labels))"
   ]
  },
  {
   "cell_type": "code",
   "execution_count": 111,
   "metadata": {},
   "outputs": [
    {
     "name": "stdout",
     "output_type": "stream",
     "text": [
      "0.9555555555555556\n"
     ]
    }
   ],
   "source": [
    "mlp = MLPClassifier(hidden_layer_sizes=(3,3),max_iter=3000,random_state=278779)\n",
    "\n",
    "mlp.fit(train_inputs, train_labels)\n",
    "\n",
    "predictions_test = mlp.predict(test_inputs)\n",
    "print(accuracy_score(predictions_test, test_labels))"
   ]
  },
  {
   "attachments": {},
   "cell_type": "markdown",
   "metadata": {},
   "source": [
    "### Najwyższą dokładność (97%) miał model z 3 neuronami, model 2-wartwowy po 3 neurony wyszedł trochę mniej dokładnie (95%), a model z 2 neuronami wyszedł bardzo niedokładnie z wynikiem 35%."
   ]
  }
 ],
 "metadata": {
  "kernelspec": {
   "display_name": "Python 3",
   "language": "python",
   "name": "python3"
  },
  "language_info": {
   "codemirror_mode": {
    "name": "ipython",
    "version": 3
   },
   "file_extension": ".py",
   "mimetype": "text/x-python",
   "name": "python",
   "nbconvert_exporter": "python",
   "pygments_lexer": "ipython3",
   "version": "3.10.1"
  },
  "orig_nbformat": 4
 },
 "nbformat": 4,
 "nbformat_minor": 2
}
