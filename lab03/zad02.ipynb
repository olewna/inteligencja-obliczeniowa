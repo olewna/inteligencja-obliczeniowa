{
 "cells": [
  {
   "cell_type": "code",
   "execution_count": 43,
   "metadata": {},
   "outputs": [],
   "source": [
    "import pygad\n",
    "import numpy\n",
    "\n",
    "S = [[1, 1, 1, 1, 1, 1, 1, 1, 1, 1, 1, 1],\n",
    "     [1, 0, 0, 0, 1, 0, 0, 0, 1, 0, 0, 1],\n",
    "     [1, 1, 1, 0, 0, 0, 1, 0, 1, 1, 0, 1],\n",
    "     [1, 0, 0, 0, 1, 0, 1, 0, 0, 0, 0, 1],\n",
    "     [1, 0, 1, 0, 1, 1, 0, 0, 1, 1, 0, 1],\n",
    "     [1, 0, 0, 1, 1, 0, 0, 0, 1, 0, 0, 1],\n",
    "     [1, 0, 0, 0, 0, 0, 1, 0, 0, 0, 1, 1],\n",
    "     [1, 0, 1, 0, 0, 1, 1, 0, 1, 0, 0, 1],\n",
    "     [1, 0, 1, 1, 1, 0, 0, 0, 1, 1, 0, 1],\n",
    "     [1, 0, 1, 0, 1, 1, 0, 1, 0, 1, 0, 1],\n",
    "     [1, 0, 1, 0, 0, 0, 0, 0, 0, 0, 0, 1],\n",
    "     [1, 1, 1, 1, 1, 1, 1, 1, 1, 1, 1, 1]]\n"
   ]
  },
  {
   "cell_type": "code",
   "execution_count": 44,
   "metadata": {},
   "outputs": [],
   "source": [
    "gene_space = [0, 1, 2, 3]  # 0 - prawo, 1 - lewo, 2 - dol, 3 - gora"
   ]
  },
  {
   "cell_type": "code",
   "execution_count": 45,
   "metadata": {},
   "outputs": [],
   "source": [
    "def jest_w_macierzy(lista, macierz):\n",
    "    if len(macierz) == 0:\n",
    "        return False\n",
    "    for i in macierz:\n",
    "        if numpy.array_equal(i, lista):\n",
    "            return True\n",
    "    return False\n",
    "\n",
    "def fitness_func(solution, solution_idx):\n",
    "    start = numpy.array([1, 1])\n",
    "    koniec = numpy.array([10, 10])\n",
    "    ruchy = 0\n",
    "    odwiedzone = []\n",
    "\n",
    "    for i in solution:\n",
    "        if jest_w_macierzy(start, odwiedzone) == False:\n",
    "            odwiedzone.append(start)\n",
    "        else:\n",
    "            ruchy += 1\n",
    "            \n",
    "        if numpy.array_equal(start, koniec):\n",
    "            return 0-ruchy\n",
    "\n",
    "        if i == 0:\n",
    "            id = numpy.array([start[0], start[1]+1])\n",
    "            next = S[id[0]][id[1]]\n",
    "            if next == 0:\n",
    "                start = id\n",
    "                ruchy += 1\n",
    "\n",
    "        if i == 1:\n",
    "            id = numpy.array([start[0], start[1]-1])\n",
    "            next = S[id[0]][id[1]]\n",
    "            if next == 0:\n",
    "                start = id\n",
    "                ruchy += 1\n",
    "\n",
    "\n",
    "        if i == 2:\n",
    "            id = numpy.array([start[0]+1, start[1]])\n",
    "            next = S[id[0]][id[1]]\n",
    "            if next == 0:\n",
    "                start = id\n",
    "                ruchy += 1\n",
    "\n",
    "        if i == 3:\n",
    "            id = numpy.array([start[0]-1, start[1]])\n",
    "            next = S[id[0]][id[1]]\n",
    "            if next == 0:\n",
    "                start = id\n",
    "                ruchy += 1\n",
    "\n",
    "\n",
    "    return -(abs(start[0]-koniec[0])+abs(start[1]-koniec[1])+ruchy)\n",
    "\n",
    "fitness_function = fitness_func"
   ]
  },
  {
   "cell_type": "code",
   "execution_count": 46,
   "metadata": {},
   "outputs": [],
   "source": [
    "def mapowanie(s):\n",
    "    aktualne_pole = [1, 1]\n",
    "    sciezka = []\n",
    "    for i in s:\n",
    "        sciezka.append(aktualne_pole)\n",
    "        if numpy.array_equal(aktualne_pole, [10, 10]):\n",
    "            return [sciezka, len(sciezka)-1]\n",
    "        elif i == 0 and S[aktualne_pole[0]][aktualne_pole[1]+1] == 0:\n",
    "            aktualne_pole = [aktualne_pole[0], aktualne_pole[1]+1]\n",
    "        elif i == 1 and S[aktualne_pole[0]][aktualne_pole[1]-1] == 0:\n",
    "            aktualne_pole = [aktualne_pole[0], aktualne_pole[1]-1]\n",
    "        elif i == 2 and S[aktualne_pole[0]+1][aktualne_pole[1]] == 0:\n",
    "            aktualne_pole = [aktualne_pole[0]+1, aktualne_pole[1]]\n",
    "        elif i == 3 and S[aktualne_pole[0]-1][aktualne_pole[1]] == 0:\n",
    "            aktualne_pole = [aktualne_pole[0]-1, aktualne_pole[1]]\n",
    "    return [sciezka, len(sciezka)]\n"
   ]
  },
  {
   "cell_type": "code",
   "execution_count": 47,
   "metadata": {},
   "outputs": [],
   "source": [
    "# ile chromsomów w populacji\n",
    "# ile genow ma chromosom\n",
    "sol_per_pop = 100\n",
    "num_genes = 30\n",
    "\n",
    "# ile wylaniamy rodzicow do \"rozmanazania\" (okolo 50% populacji)\n",
    "# ile pokolen\n",
    "# ilu rodzicow zachowac (kilka procent)\n",
    "num_parents_mating = 50\n",
    "num_generations = 500\n",
    "keep_parents = 2\n",
    "\n",
    "# jaki typ selekcji rodzicow?\n",
    "# sss = steady, rws=roulette, rank = rankingowa, tournament = turniejowa\n",
    "parent_selection_type = \"sss\"\n",
    "\n",
    "# w il =u punktach robic krzyzowanie?\n",
    "crossover_type = \"single_point\"\n",
    "\n",
    "# mutacja ma dzialac na ilu procent genow?\n",
    "# trzeba pamietac ile genow ma chromosom\n",
    "mutation_type = \"random\"\n",
    "mutation_percent_genes = 5\n"
   ]
  },
  {
   "cell_type": "code",
   "execution_count": 48,
   "metadata": {},
   "outputs": [],
   "source": [
    "# inicjacja algorytmu z powyzszymi parametrami wpisanymi w atrybuty\n",
    "ga_instance = pygad.GA(gene_space=gene_space,\n",
    "                       num_generations=num_generations,\n",
    "                       num_parents_mating=num_parents_mating,\n",
    "                       fitness_func=fitness_function,\n",
    "                       sol_per_pop=sol_per_pop,\n",
    "                       num_genes=num_genes,\n",
    "                       parent_selection_type=parent_selection_type,\n",
    "                       keep_parents=keep_parents,\n",
    "                       crossover_type=crossover_type,\n",
    "                       mutation_type=mutation_type,\n",
    "                       mutation_percent_genes=mutation_percent_genes)"
   ]
  },
  {
   "cell_type": "code",
   "execution_count": 49,
   "metadata": {},
   "outputs": [
    {
     "ename": "KeyboardInterrupt",
     "evalue": "",
     "output_type": "error",
     "traceback": [
      "\u001b[1;31m---------------------------------------------------------------------------\u001b[0m",
      "\u001b[1;31mKeyboardInterrupt\u001b[0m                         Traceback (most recent call last)",
      "Cell \u001b[1;32mIn[49], line 2\u001b[0m\n\u001b[0;32m      1\u001b[0m \u001b[39m# uruchomienie algorytmu\u001b[39;00m\n\u001b[1;32m----> 2\u001b[0m ga_instance\u001b[39m.\u001b[39;49mrun()\n\u001b[0;32m      4\u001b[0m \u001b[39m# podsumowanie: najlepsze znalezione rozwiazanie (chromosom+ocena)\u001b[39;00m\n\u001b[0;32m      5\u001b[0m solution, solution_fitness, solution_idx \u001b[39m=\u001b[39m ga_instance\u001b[39m.\u001b[39mbest_solution()\n",
      "File \u001b[1;32mc:\\Users\\olewn\\AppData\\Local\\Programs\\Python\\Python310\\lib\\site-packages\\pygad\\pygad.py:1624\u001b[0m, in \u001b[0;36mGA.run\u001b[1;34m(self)\u001b[0m\n\u001b[0;32m   1622\u001b[0m         \u001b[39mraise\u001b[39;00m \u001b[39mTypeError\u001b[39;00m(\u001b[39m\"\u001b[39m\u001b[39mThe output of the crossover step is expected to be of type (numpy.ndarray) but \u001b[39m\u001b[39m{last_generation_offspring_crossover_type}\u001b[39;00m\u001b[39m found.\u001b[39m\u001b[39m\"\u001b[39m\u001b[39m.\u001b[39mformat(last_generation_offspring_crossover_type\u001b[39m=\u001b[39m\u001b[39mtype\u001b[39m(\u001b[39mself\u001b[39m\u001b[39m.\u001b[39mlast_generation_offspring_crossover)))\n\u001b[0;32m   1623\u001b[0m \u001b[39melse\u001b[39;00m:\n\u001b[1;32m-> 1624\u001b[0m     \u001b[39mself\u001b[39m\u001b[39m.\u001b[39mlast_generation_offspring_crossover \u001b[39m=\u001b[39m \u001b[39mself\u001b[39;49m\u001b[39m.\u001b[39;49mcrossover(\u001b[39mself\u001b[39;49m\u001b[39m.\u001b[39;49mlast_generation_parents,\n\u001b[0;32m   1625\u001b[0m                                                               offspring_size\u001b[39m=\u001b[39;49m(\u001b[39mself\u001b[39;49m\u001b[39m.\u001b[39;49mnum_offspring, \u001b[39mself\u001b[39;49m\u001b[39m.\u001b[39;49mnum_genes))\n\u001b[0;32m   1626\u001b[0m \u001b[39mif\u001b[39;00m \u001b[39mself\u001b[39m\u001b[39m.\u001b[39mlast_generation_offspring_crossover\u001b[39m.\u001b[39mshape \u001b[39m!=\u001b[39m (\u001b[39mself\u001b[39m\u001b[39m.\u001b[39mnum_offspring, \u001b[39mself\u001b[39m\u001b[39m.\u001b[39mnum_genes):\n\u001b[0;32m   1627\u001b[0m     \u001b[39mif\u001b[39;00m \u001b[39mself\u001b[39m\u001b[39m.\u001b[39mlast_generation_offspring_crossover\u001b[39m.\u001b[39mshape[\u001b[39m0\u001b[39m] \u001b[39m!=\u001b[39m \u001b[39mself\u001b[39m\u001b[39m.\u001b[39mnum_offspring:\n",
      "File \u001b[1;32mc:\\Users\\olewn\\AppData\\Local\\Programs\\Python\\Python310\\lib\\site-packages\\pygad\\pygad.py:1941\u001b[0m, in \u001b[0;36mGA.single_point_crossover\u001b[1;34m(self, parents, offspring_size)\u001b[0m\n\u001b[0;32m   1937\u001b[0m     offspring \u001b[39m=\u001b[39m numpy\u001b[39m.\u001b[39mempty(offspring_size, dtype\u001b[39m=\u001b[39m\u001b[39mobject\u001b[39m)\n\u001b[0;32m   1939\u001b[0m \u001b[39mfor\u001b[39;00m k \u001b[39min\u001b[39;00m \u001b[39mrange\u001b[39m(offspring_size[\u001b[39m0\u001b[39m]):\n\u001b[0;32m   1940\u001b[0m     \u001b[39m# The point at which crossover takes place between two parents. Usually, it is at the center.\u001b[39;00m\n\u001b[1;32m-> 1941\u001b[0m     crossover_point \u001b[39m=\u001b[39m numpy\u001b[39m.\u001b[39;49mrandom\u001b[39m.\u001b[39;49mrandint(low\u001b[39m=\u001b[39;49m\u001b[39m0\u001b[39;49m, high\u001b[39m=\u001b[39;49mparents\u001b[39m.\u001b[39;49mshape[\u001b[39m1\u001b[39;49m], size\u001b[39m=\u001b[39;49m\u001b[39m1\u001b[39;49m)[\u001b[39m0\u001b[39m]\n\u001b[0;32m   1943\u001b[0m     \u001b[39mif\u001b[39;00m \u001b[39mnot\u001b[39;00m (\u001b[39mself\u001b[39m\u001b[39m.\u001b[39mcrossover_probability \u001b[39mis\u001b[39;00m \u001b[39mNone\u001b[39;00m):\n\u001b[0;32m   1944\u001b[0m         probs \u001b[39m=\u001b[39m numpy\u001b[39m.\u001b[39mrandom\u001b[39m.\u001b[39mrandom(size\u001b[39m=\u001b[39mparents\u001b[39m.\u001b[39mshape[\u001b[39m0\u001b[39m])\n",
      "\u001b[1;31mKeyboardInterrupt\u001b[0m: "
     ]
    }
   ],
   "source": [
    "# uruchomienie algorytmu\n",
    "ga_instance.run()\n",
    "\n",
    "# podsumowanie: najlepsze znalezione rozwiazanie (chromosom+ocena)\n",
    "solution, solution_fitness, solution_idx = ga_instance.best_solution()\n",
    "print(\"Najlepsze parametry wybrane przez algorytm: {solution}\".format(\n",
    "    solution=solution))\n",
    "print(\"Najlepsza wartość fitness wybrana przez algorytm: {solution_fitness}\".format(\n",
    "    solution_fitness=solution_fitness))\n",
    "\n",
    "kroki = mapowanie(solution)[0]\n",
    "ilosc_krokow = mapowanie(solution)[1]\n",
    "print(kroki)\n",
    "print(\"Liczba kroków: \" + str(ilosc_krokow))\n",
    "\n",
    "# wyswietlenie wykresu: jak zmieniala sie ocena na przestrzeni pokolen\n",
    "ga_instance.plot_fitness()\n"
   ]
  }
 ],
 "metadata": {
  "kernelspec": {
   "display_name": "Python 3",
   "language": "python",
   "name": "python3"
  },
  "language_info": {
   "codemirror_mode": {
    "name": "ipython",
    "version": 3
   },
   "file_extension": ".py",
   "mimetype": "text/x-python",
   "name": "python",
   "nbconvert_exporter": "python",
   "pygments_lexer": "ipython3",
   "version": "3.10.1"
  },
  "orig_nbformat": 4
 },
 "nbformat": 4,
 "nbformat_minor": 2
}
