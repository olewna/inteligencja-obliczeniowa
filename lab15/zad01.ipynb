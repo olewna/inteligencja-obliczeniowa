{
 "cells": [
  {
   "attachments": {},
   "cell_type": "markdown",
   "metadata": {},
   "source": [
    "# Gym library\n",
    "### In this exercise we will launch some games from gym library, try to solve them manually and describe their actions, state and environment."
   ]
  },
  {
   "cell_type": "code",
   "execution_count": 14,
   "metadata": {},
   "outputs": [],
   "source": [
    "import gym\n",
    "import numpy as np"
   ]
  },
  {
   "attachments": {},
   "cell_type": "markdown",
   "metadata": {},
   "source": [
    "# Classic Control\n",
    "1. MountainCar\n",
    "- environment has full visualization of the map\n",
    "- agent is one and has full responsibility of what will happen\n",
    "- environment is static, only the cart is moving and discrete\n",
    "- this version is the one with discrete actions"
   ]
  },
  {
   "cell_type": "code",
   "execution_count": 15,
   "metadata": {},
   "outputs": [],
   "source": [
    "env = gym.make('MountainCar-v0', render_mode=\"human\")\n",
    "observation, info = env.reset(seed=42)\n",
    "\n",
    "for i in range(10):\n",
    "    for _ in range(2*i):\n",
    "        action = 2\n",
    "        observation, reward, terminated, truncated, info = env.step(action)\n",
    "        if terminated or truncated:\n",
    "            observation, info = env.reset()\n",
    "    for _ in range(5*i):\n",
    "        action = 0\n",
    "        observation, reward, terminated, truncated, info = env.step(action)\n",
    "        if terminated or truncated:\n",
    "            observation, info = env.reset()\n",
    "    for _ in range(2*i):\n",
    "        action = 1\n",
    "        observation, reward, terminated, truncated, info = env.step(action)\n",
    "        if terminated or truncated:\n",
    "            observation, info = env.reset()\n",
    "\n",
    "\n",
    "env.close()"
   ]
  },
  {
   "attachments": {},
   "cell_type": "markdown",
   "metadata": {},
   "source": [
    "# Box2D\n",
    "1. Bipedal Walker\n",
    "- environment has full visualization of the map\n",
    "- one agent who makes every move\n",
    "- environment is static and continuous\n",
    "- set of actions is continuous"
   ]
  },
  {
   "cell_type": "code",
   "execution_count": 16,
   "metadata": {},
   "outputs": [],
   "source": [
    "env = gym.make(\"BipedalWalker-v3\", render_mode=\"human\")\n",
    "observation, info = env.reset(seed=278779)\n",
    "\n",
    "for i in range(300):\n",
    "    action = env.action_space.sample()\n",
    "    observation, reward, terminated, truncated, info = env.step(action)\n",
    "\n",
    "    if terminated or truncated:\n",
    "        observation, info = env.reset()\n",
    "env.close()"
   ]
  },
  {
   "attachments": {},
   "cell_type": "markdown",
   "metadata": {},
   "source": [
    "2. Lunar Lander\n",
    "- environment has full visualization of the map\n",
    "- agent has full responsibility for the moves \n",
    "- environment is static and discrete (it can be changed after adding \"continuous=True\" in environment)\n",
    "- set of actions is continuous"
   ]
  },
  {
   "cell_type": "code",
   "execution_count": 17,
   "metadata": {},
   "outputs": [],
   "source": [
    "env = gym.make(\"LunarLander-v2\", render_mode=\"human\")\n",
    "observation, info = env.reset(seed=42)\n",
    "\n",
    "for i in range(300):\n",
    "    action = 0\n",
    "    # print(\"Akcja nr \", i, \": \", action)\n",
    "    observation, reward, terminated, truncated, info = env.step(action)\n",
    "\n",
    "    if terminated or truncated:\n",
    "        observation, info = env.reset()\n",
    "env.close()\n"
   ]
  },
  {
   "attachments": {},
   "cell_type": "markdown",
   "metadata": {},
   "source": [
    "# Toy Text\n",
    "1. Taxi\n",
    "- environment see full map\n",
    "- there is one agent who has full control\n",
    "- environment is dynamic and continuous\n",
    "- set of actions is discrete"
   ]
  },
  {
   "cell_type": "code",
   "execution_count": 18,
   "metadata": {},
   "outputs": [],
   "source": [
    "env = gym.make(\"Taxi-v3\", render_mode=\"human\")\n",
    "observation, info = env.reset(seed=42)\n",
    "\n",
    "for i in range(30):\n",
    "    action = env.action_space.sample()\n",
    "    observation, reward, terminated, truncated, info = env.step(action)\n",
    "\n",
    "    if terminated or truncated:\n",
    "        observation, info = env.reset()\n",
    "env.close()"
   ]
  },
  {
   "attachments": {},
   "cell_type": "markdown",
   "metadata": {},
   "source": [
    "2. Frozen Lake\n",
    "- environment has full visualization of the map\n",
    "- agent is one and if slippery is False has full control of character in game. Otherwise, there is a chance that the character will \"slip\" on the block on the right or left\n",
    "- environment is static and discrete\n",
    "- set of actions is discrete"
   ]
  },
  {
   "cell_type": "code",
   "execution_count": 19,
   "metadata": {},
   "outputs": [],
   "source": [
    "env = gym.make('FrozenLake8x8-v1', render_mode=\"human\", is_slippery=False)\n",
    "\n",
    "\n",
    "observation, info = env.reset(seed=42)\n",
    "\n",
    "for _ in range(7):\n",
    "    action = 2\n",
    "    observation, reward, terminated, truncated, info = env.step(action)\n",
    "    if terminated or truncated:\n",
    "        observation, info = env.reset()\n",
    "\n",
    "for _ in range(7):\n",
    "    action = 1\n",
    "    observation, reward, terminated, truncated, info = env.step(action)\n",
    "    if terminated or truncated:\n",
    "        observation, info = env.reset()\n",
    "\n",
    "env.close()"
   ]
  },
  {
   "attachments": {},
   "cell_type": "markdown",
   "metadata": {},
   "source": [
    "# Atari\n",
    "1. Adventure\n",
    "- environment has visualization of parts of the map\n",
    "- there is one agent who plays as character and there is a chance of random action to change his move\n",
    "- environment is dynamic and continuous\n",
    "- set of actions is discrete"
   ]
  },
  {
   "cell_type": "code",
   "execution_count": 20,
   "metadata": {},
   "outputs": [],
   "source": [
    "env = gym.make(\"ALE/Adventure-v5\", render_mode=\"human\")\n",
    "observation, info = env.reset(seed=42)\n",
    "\n",
    "for _ in range(10):\n",
    "    action = 5\n",
    "    observation, reward, terminated, truncated, info = env.step(action)\n",
    "    if terminated or truncated:\n",
    "        observation, info = env.reset()\n",
    "\n",
    "for _ in range(30):\n",
    "    action = 4\n",
    "    observation, reward, terminated, truncated, info = env.step(action)\n",
    "    if terminated or truncated:\n",
    "        observation, info = env.reset()\n",
    "\n",
    "for _ in range(10):\n",
    "    action = 2\n",
    "    observation, reward, terminated, truncated, info = env.step(action)\n",
    "    if terminated or truncated:\n",
    "        observation, info = env.reset()\n",
    "\n",
    "for _ in range(15):\n",
    "    action = 4\n",
    "    observation, reward, terminated, truncated, info = env.step(action)\n",
    "    if terminated or truncated:\n",
    "        observation, info = env.reset()\n",
    "\n",
    "# for _ in range(500):\n",
    "#     action = env.action_space.sample()\n",
    "#     observation, reward, terminated, truncated, info = env.step(action)\n",
    "#     if terminated or truncated:\n",
    "#         observation, info = env.reset()\n",
    "env.close()"
   ]
  },
  {
   "attachments": {},
   "cell_type": "markdown",
   "metadata": {},
   "source": [
    "# MuJoCo\n",
    "1. Inverted Pendulum\n",
    "- environment has a full visualization in 3D of the map\n",
    "- there is one agent who has full control\n",
    "- environment is continuous as well as the set of actions"
   ]
  },
  {
   "cell_type": "code",
   "execution_count": 21,
   "metadata": {},
   "outputs": [],
   "source": [
    "env = gym.make('InvertedPendulum-v4', render_mode=\"human\")\n",
    "observation, info = env.reset(seed=42)\n",
    "\n",
    "for _ in range(300):\n",
    "    action = env.action_space.sample()\n",
    "    observation, reward, terminated, truncated, info = env.step(action)\n",
    "\n",
    "    if terminated or truncated:\n",
    "        observation, info = env.reset()\n",
    "env.close()"
   ]
  }
 ],
 "metadata": {
  "kernelspec": {
   "display_name": "Python 3",
   "language": "python",
   "name": "python3"
  },
  "language_info": {
   "codemirror_mode": {
    "name": "ipython",
    "version": 3
   },
   "file_extension": ".py",
   "mimetype": "text/x-python",
   "name": "python",
   "nbconvert_exporter": "python",
   "pygments_lexer": "ipython3",
   "version": "3.10.1"
  },
  "orig_nbformat": 4
 },
 "nbformat": 4,
 "nbformat_minor": 2
}
