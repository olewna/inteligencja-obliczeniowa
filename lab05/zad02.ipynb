{
 "cells": [
  {
   "cell_type": "code",
   "execution_count": 4,
   "metadata": {},
   "outputs": [],
   "source": [
    "import pandas as pd\n",
    "from sklearn.model_selection import train_test_split\n",
    "\n",
    "irys = pd.read_csv(\"iris.csv\")\n",
    "\n",
    "(train_set, test_set) = train_test_split(irys.values, train_size=0.7,\n",
    "random_state=278779)"
   ]
  },
  {
   "cell_type": "code",
   "execution_count": 42,
   "metadata": {},
   "outputs": [],
   "source": [
    "def classify_iris(sl, sw, pl, pw):\n",
    "    if pw <= 0.5:\n",
    "        return(\"setosa\")\n",
    "    elif pl >= 5:\n",
    "        return(\"virginica\")\n",
    "    else:\n",
    "        return(\"versicolor\")"
   ]
  },
  {
   "cell_type": "code",
   "execution_count": 40,
   "metadata": {},
   "outputs": [],
   "source": [
    "def answer_counter():\n",
    "    sl = train_set[:,0]\n",
    "    sw = train_set[:,1]\n",
    "    pl = train_set[:,2]\n",
    "    pw = train_set[:,3]\n",
    "    types = train_set[:,4]\n",
    "\n",
    "    good_predictions = 0\n",
    "    len = test_set.shape[0]\n",
    "\n",
    "    for i in range(len):\n",
    "        if classify_iris(sl[i],sw[i],pl[i],pw[i]) == types[i]:\n",
    "            good_predictions = good_predictions + 1\n",
    "\n",
    "    print(good_predictions)\n",
    "    print(good_predictions/len*100, \"%\")"
   ]
  },
  {
   "cell_type": "code",
   "execution_count": 43,
   "metadata": {},
   "outputs": [
    {
     "name": "stdout",
     "output_type": "stream",
     "text": [
      "41\n",
      "91.11111111111111 %\n"
     ]
    }
   ],
   "source": [
    "answer_counter()"
   ]
  }
 ],
 "metadata": {
  "kernelspec": {
   "display_name": "Python 3",
   "language": "python",
   "name": "python3"
  },
  "language_info": {
   "codemirror_mode": {
    "name": "ipython",
    "version": 3
   },
   "file_extension": ".py",
   "mimetype": "text/x-python",
   "name": "python",
   "nbconvert_exporter": "python",
   "pygments_lexer": "ipython3",
   "version": "3.10.1"
  },
  "orig_nbformat": 4
 },
 "nbformat": 4,
 "nbformat_minor": 2
}
