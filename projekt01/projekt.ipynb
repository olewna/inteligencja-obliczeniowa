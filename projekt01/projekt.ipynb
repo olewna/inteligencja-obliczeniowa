{
 "cells": [
  {
   "attachments": {},
   "cell_type": "markdown",
   "metadata": {},
   "source": [
    "Oskar Lewna 278779"
   ]
  },
  {
   "attachments": {},
   "cell_type": "markdown",
   "metadata": {},
   "source": [
    "## Light up - the game where we have BLACK and WHITE fields. Our goal is to place BULBS on WHITE fields to illuminate all of them but we can't place BULB that emits light on another BULB."
   ]
  },
  {
   "cell_type": "code",
   "execution_count": 1,
   "metadata": {},
   "outputs": [],
   "source": [
    "import pygad\n",
    "import numpy as np\n",
    "import copy as copy\n",
    "from collections import Counter\n",
    "import random\n",
    "import time"
   ]
  },
  {
   "attachments": {},
   "cell_type": "markdown",
   "metadata": {},
   "source": [
    "### Imports"
   ]
  },
  {
   "cell_type": "code",
   "execution_count": 2,
   "metadata": {},
   "outputs": [],
   "source": [
    "E1 = [[\"B\",\"B\",\"W\",\"W\",\"W\"],\n",
    "      [\"W\",\"W\",\"B\",\"W\",\"B\"],\n",
    "      [\"B\",\"W\",\"B\",\"W\",\"B\"],\n",
    "      [\"B\",\"W\",\"B\",\"W\",\"B\"],\n",
    "      [\"B\",\"W\",\"B\",\"W\",\"B\"]]\n",
    "# 2 bulbs\n",
    "\n",
    "E2 = [[\"B\",\"W\",\"B\",\"W\",\"B\"],\n",
    "      [\"W\",\"W\",\"W\",\"W\",\"W\"],\n",
    "      [\"B\",\"W\",\"W\",\"W\",\"B\"],\n",
    "      [\"W\",\"W\",\"W\",\"W\",\"W\"],\n",
    "      [\"B\",\"W\",\"B\",\"W\",\"B\"]]\n",
    "# 3 bulbs\n",
    "\n",
    "E3 = [[\"B\",\"B\",\"B\",\"W\",\"W\"],\n",
    "      [\"B\",\"B\",\"W\",\"B\",\"W\"],\n",
    "      [\"B\",\"W\",\"W\",\"W\",\"B\"],\n",
    "      [\"B\",\"B\",\"W\",\"B\",\"B\"],\n",
    "      [\"W\",\"B\",\"B\",\"B\",\"B\"]]\n",
    "# 3 bulbs\n",
    "\n",
    "N1 = [[\"W\",\"W\",\"W\",\"W\",\"W\",\"W\",\"W\",\"W\",\"W\",\"W\"],\n",
    "      [\"W\",\"B\",\"W\",\"B\",\"W\",\"B\",\"W\",\"W\",\"B\",\"W\"],\n",
    "      [\"W\",\"W\",\"W\",\"W\",\"W\",\"W\",\"W\",\"W\",\"W\",\"W\"],\n",
    "      [\"W\",\"W\",\"W\",\"W\",\"W\",\"B\",\"W\",\"W\",\"B\",\"W\"],\n",
    "      [\"W\",\"B\",\"W\",\"B\",\"W\",\"W\",\"W\",\"W\",\"W\",\"W\"],\n",
    "      [\"W\",\"W\",\"W\",\"W\",\"W\",\"W\",\"B\",\"W\",\"B\",\"W\"],\n",
    "      [\"W\",\"B\",\"W\",\"W\",\"B\",\"W\",\"W\",\"W\",\"W\",\"W\"],\n",
    "      [\"W\",\"W\",\"W\",\"W\",\"W\",\"W\",\"W\",\"W\",\"W\",\"W\"],\n",
    "      [\"W\",\"B\",\"W\",\"W\",\"B\",\"W\",\"B\",\"W\",\"B\",\"W\"],\n",
    "      [\"W\",\"W\",\"W\",\"W\",\"W\",\"W\",\"W\",\"W\",\"W\",\"W\"]]\n",
    "# 15 bulbs\n",
    "\n",
    "N2 = [[\"B\",\"W\",\"W\",\"W\",\"B\",\"W\",\"B\"],\n",
    "      [\"W\",\"W\",\"W\",\"W\",\"W\",\"W\",\"W\"],\n",
    "      [\"B\",\"W\",\"W\",\"W\",\"W\",\"W\",\"W\"],\n",
    "      [\"W\",\"W\",\"W\",\"B\",\"W\",\"W\",\"W\"],\n",
    "      [\"W\",\"W\",\"W\",\"W\",\"W\",\"W\",\"B\"],\n",
    "      [\"W\",\"W\",\"W\",\"W\",\"W\",\"W\",\"W\"],\n",
    "      [\"B\",\"W\",\"B\",\"W\",\"W\",\"W\",\"B\"]]\n",
    "# 7 bulbs\n",
    "\n",
    "N3 = [[\"B\",\"W\",\"W\",\"W\",\"W\",\"B\",\"W\",\"W\",\"B\",\"B\"],\n",
    "      [\"B\",\"W\",\"B\",\"B\",\"W\",\"B\",\"W\",\"W\",\"W\",\"W\"],\n",
    "      [\"W\",\"W\",\"B\",\"B\",\"W\",\"W\",\"W\",\"B\",\"B\",\"W\"],\n",
    "      [\"W\",\"W\",\"W\",\"W\",\"W\",\"B\",\"W\",\"B\",\"B\",\"W\"],\n",
    "      [\"B\",\"B\",\"W\",\"B\",\"W\",\"W\",\"W\",\"W\",\"W\",\"W\"],\n",
    "      [\"W\",\"W\",\"W\",\"W\",\"W\",\"W\",\"B\",\"W\",\"B\",\"B\"],\n",
    "      [\"W\",\"B\",\"B\",\"W\",\"B\",\"W\",\"W\",\"W\",\"W\",\"W\"],\n",
    "      [\"W\",\"B\",\"B\",\"W\",\"W\",\"W\",\"B\",\"B\",\"W\",\"W\"],\n",
    "      [\"W\",\"W\",\"W\",\"W\",\"B\",\"W\",\"B\",\"B\",\"W\",\"B\"],\n",
    "      [\"B\",\"B\",\"W\",\"W\",\"B\",\"W\",\"W\",\"W\",\"W\",\"B\"]]\n",
    "# 17 bulbs\n",
    "\n",
    "H1 = [\n",
    "      [\"W\",\"W\",\"B\",\"W\",\"W\",\"W\",\"W\",\"B\",\"W\",\"W\",\"W\",\"W\",\"W\",\"B\",\"W\",\"W\",\"W\",\"W\"],\n",
    "      [\"W\",\"B\",\"W\",\"W\",\"B\",\"W\",\"W\",\"B\",\"W\",\"W\",\"B\",\"W\",\"W\",\"B\",\"W\",\"W\",\"B\",\"W\"],\n",
    "      [\"W\",\"W\",\"W\",\"B\",\"W\",\"W\",\"B\",\"W\",\"W\",\"W\",\"W\",\"B\",\"W\",\"W\",\"B\",\"W\",\"W\",\"B\"],\n",
    "      [\"W\",\"B\",\"W\",\"W\",\"W\",\"W\",\"W\",\"W\",\"B\",\"B\",\"W\",\"B\",\"W\",\"W\",\"W\",\"W\",\"W\",\"W\"],\n",
    "      [\"B\",\"W\",\"W\",\"W\",\"B\",\"B\",\"W\",\"B\",\"W\",\"W\",\"W\",\"W\",\"W\",\"W\",\"B\",\"B\",\"W\",\"W\"],\n",
    "      [\"W\",\"W\",\"B\",\"B\",\"W\",\"W\",\"W\",\"W\",\"W\",\"W\",\"B\",\"W\",\"B\",\"B\",\"W\",\"W\",\"W\",\"B\"],\n",
    "      [\"W\",\"W\",\"W\",\"W\",\"W\",\"W\",\"B\",\"W\",\"B\",\"B\",\"W\",\"W\",\"W\",\"W\",\"W\",\"W\",\"B\",\"W\"],\n",
    "      [\"B\",\"W\",\"W\",\"B\",\"W\",\"W\",\"B\",\"W\",\"W\",\"W\",\"W\",\"B\",\"W\",\"W\",\"B\",\"W\",\"W\",\"W\"],\n",
    "      [\"W\",\"B\",\"W\",\"W\",\"B\",\"W\",\"W\",\"B\",\"W\",\"W\",\"B\",\"W\",\"W\",\"B\",\"W\",\"W\",\"B\",\"W\"],\n",
    "      [\"W\",\"W\",\"W\",\"W\",\"B\",\"W\",\"W\",\"W\",\"W\",\"W\",\"B\",\"W\",\"W\",\"W\",\"W\",\"B\",\"W\",\"W\"]]\n",
    "# 31 bulbs\n",
    "\n",
    "H2 = [\n",
    "      [\"B\",\"B\",\"W\",\"W\",\"W\",\"W\",\"W\",\"W\",\"W\",\"W\",\"W\",\"W\",\"W\",\"W\",\"W\",\"W\",\"W\",\"W\"],\n",
    "      [\"B\",\"B\",\"W\",\"W\",\"B\",\"W\",\"W\",\"W\",\"W\",\"W\",\"W\",\"B\",\"W\",\"B\",\"W\",\"B\",\"W\",\"W\"],\n",
    "      [\"W\",\"W\",\"W\",\"B\",\"W\",\"W\",\"W\",\"W\",\"W\",\"W\",\"W\",\"W\",\"B\",\"W\",\"W\",\"W\",\"B\",\"W\"],\n",
    "      [\"W\",\"W\",\"B\",\"W\",\"B\",\"W\",\"B\",\"W\",\"B\",\"B\",\"W\",\"B\",\"W\",\"B\",\"W\",\"B\",\"W\",\"W\"],\n",
    "      [\"W\",\"B\",\"W\",\"W\",\"B\",\"W\",\"W\",\"W\",\"W\",\"W\",\"W\",\"W\",\"W\",\"W\",\"W\",\"W\",\"W\",\"W\"],\n",
    "      [\"W\",\"W\",\"W\",\"W\",\"W\",\"W\",\"W\",\"W\",\"W\",\"W\",\"W\",\"W\",\"W\",\"B\",\"W\",\"W\",\"B\",\"W\"],\n",
    "      [\"W\",\"W\",\"B\",\"W\",\"B\",\"W\",\"B\",\"W\",\"B\",\"B\",\"W\",\"B\",\"W\",\"B\",\"W\",\"B\",\"W\",\"W\"],\n",
    "      [\"W\",\"B\",\"W\",\"W\",\"W\",\"B\",\"W\",\"W\",\"W\",\"W\",\"W\",\"W\",\"W\",\"W\",\"B\",\"W\",\"W\",\"W\"],\n",
    "      [\"W\",\"W\",\"B\",\"W\",\"B\",\"W\",\"B\",\"W\",\"W\",\"W\",\"W\",\"W\",\"W\",\"B\",\"W\",\"W\",\"B\",\"B\"],\n",
    "      [\"W\",\"W\",\"W\",\"W\",\"W\",\"W\",\"W\",\"W\",\"W\",\"W\",\"W\",\"W\",\"W\",\"W\",\"W\",\"W\",\"B\",\"B\"]]\n",
    "# 20 bulbs\n",
    "\n",
    "H3 = [\n",
    "    [\"W\",\"W\",\"W\",\"W\",\"W\",\"W\",\"W\",\"W\",\"B\",\"W\",\"W\",\"B\",\"W\",\"W\",\"W\",\"W\",\"W\",\"W\"],\n",
    "    [\"W\",\"W\",\"B\",\"W\",\"B\",\"W\",\"W\",\"B\",\"W\",\"W\",\"W\",\"W\",\"B\",\"W\",\"W\",\"W\",\"W\",\"W\"],\n",
    "    [\"W\",\"B\",\"W\",\"W\",\"W\",\"B\",\"W\",\"W\",\"W\",\"W\",\"W\",\"W\",\"W\",\"W\",\"W\",\"W\",\"W\",\"W\"],\n",
    "    [\"W\",\"W\",\"W\",\"W\",\"W\",\"W\",\"W\",\"W\",\"W\",\"W\",\"W\",\"W\",\"B\",\"W\",\"W\",\"W\",\"W\",\"W\"],\n",
    "    [\"W\",\"B\",\"W\",\"W\",\"W\",\"W\",\"W\",\"W\",\"W\",\"W\",\"W\",\"B\",\"W\",\"W\",\"W\",\"W\",\"W\",\"B\"],\n",
    "    [\"B\",\"W\",\"W\",\"W\",\"W\",\"W\",\"B\",\"W\",\"W\",\"W\",\"W\",\"W\",\"W\",\"W\",\"W\",\"W\",\"B\",\"W\"],\n",
    "    [\"W\",\"W\",\"W\",\"W\",\"W\",\"B\",\"W\",\"W\",\"W\",\"W\",\"W\",\"W\",\"W\",\"W\",\"W\",\"W\",\"W\",\"W\"],\n",
    "    [\"W\",\"W\",\"W\",\"W\",\"W\",\"W\",\"W\",\"W\",\"W\",\"W\",\"W\",\"W\",\"B\",\"W\",\"W\",\"W\",\"B\",\"W\"],\n",
    "    [\"W\",\"W\",\"W\",\"W\",\"W\",\"B\",\"W\",\"W\",\"W\",\"W\",\"B\",\"W\",\"W\",\"B\",\"W\",\"B\",\"W\",\"W\"],\n",
    "    [\"W\",\"W\",\"W\",\"W\",\"W\",\"W\",\"B\",\"W\",\"W\",\"B\",\"W\",\"W\",\"W\",\"W\",\"W\",\"W\",\"W\",\"W\"]]\n",
    "# 26 bulbs\n",
    "\n",
    "easy = [E1,E2,E3]\n",
    "easy_answer = [2,3,3]\n",
    "normal = [N1,N2,N3]\n",
    "normal_answer = [15,7,17]\n",
    "hard = [H1,H2,H3]\n",
    "hard_answer = [31,20,26]\n",
    "# level = E2"
   ]
  },
  {
   "attachments": {},
   "cell_type": "markdown",
   "metadata": {},
   "source": [
    "### Inputs of our boards: E - easy, N - normal and H - hard."
   ]
  },
  {
   "cell_type": "code",
   "execution_count": 3,
   "metadata": {},
   "outputs": [],
   "source": [
    "gene_space = [1,0] #BULB OR NOT"
   ]
  },
  {
   "attachments": {},
   "cell_type": "markdown",
   "metadata": {},
   "source": [
    "### Our genes will be 0 (no bulb) or 1 (bulb) "
   ]
  },
  {
   "cell_type": "code",
   "execution_count": 4,
   "metadata": {},
   "outputs": [],
   "source": [
    "def fitness_func(solution, solution_idx):\n",
    "    fitness = 0\n",
    "    bulbs = np.sum(solution)\n",
    "    board = copy.deepcopy(level)\n",
    "    id = 0\n",
    "\n",
    "    for i in range(0,len(board)):\n",
    "        for j in range(0,len(board[0])):\n",
    "            if(solution[id]==1 and board[i][j]==\"B\"):\n",
    "                fitness += 1\n",
    "                continue\n",
    "            elif(solution[id]==1 and board[i][j]==\"L\"):\n",
    "                fitness += 1\n",
    "                continue\n",
    "            elif (solution[id]==1 and board[i][j]==\"W\"):\n",
    "                board[i][j] = \"O\"\n",
    "                for a in range(i,-1,-1):\n",
    "                    if(board[a][j]==\"W\"):\n",
    "                        board[a][j]=\"L\"\n",
    "                    elif(board[a][j]==\"B\"):\n",
    "                        break\n",
    "                for a in range(i,len(board)):\n",
    "                    if(board[a][j]==\"W\"):\n",
    "                        board[a][j]=\"L\"\n",
    "                    elif(board[a][j]==\"B\"):\n",
    "                        break\n",
    "                for a in range(j,-1,-1):\n",
    "                    if(board[i][a]==\"W\"):\n",
    "                        board[i][a]=\"L\"\n",
    "                    elif(board[i][a]==\"B\"):\n",
    "                        break\n",
    "                for a in range(j,len(board[i])):\n",
    "                    if(board[i][a]==\"W\"):\n",
    "                        board[i][a]=\"L\"\n",
    "                    elif(board[i][a]==\"B\"):\n",
    "                        break\n",
    "            id +=1\n",
    "\n",
    "    empty = dict(sum(map(Counter, board), Counter()))\n",
    "    if(empty.get(\"W\")!=None):\n",
    "        fitness += empty.get(\"W\")\n",
    "\n",
    "    return -(fitness + bulbs)\n",
    "\n",
    "fitness_function = fitness_func"
   ]
  },
  {
   "attachments": {},
   "cell_type": "markdown",
   "metadata": {},
   "source": [
    "### In the first fitness function we will count remaining WHITE fields by adding them to result and substracting illuminated fields. In addition we will add amount of used BULBS and BULBS placed on BLACK fields. It is complicated fitness function so the algorithm will calculate longer."
   ]
  },
  {
   "cell_type": "code",
   "execution_count": 5,
   "metadata": {},
   "outputs": [],
   "source": [
    "def board_final(solution):\n",
    "    board = copy.deepcopy(level)\n",
    "    id = 0\n",
    "    \n",
    "    for i in range(0,len(board)):\n",
    "        for j in range(0,len(board[i])):\n",
    "            if(solution[id]==1):\n",
    "                board[i][j]=\"O\"\n",
    "            id += 1\n",
    "\n",
    "    return board"
   ]
  },
  {
   "attachments": {},
   "cell_type": "markdown",
   "metadata": {},
   "source": [
    "### Function board_final shows us how our algorithm placed BULBS."
   ]
  },
  {
   "attachments": {},
   "cell_type": "markdown",
   "metadata": {},
   "source": [
    "### The game has different levels with different amount of fields. The more fields it has the more generations is needed."
   ]
  },
  {
   "cell_type": "code",
   "execution_count": 8,
   "metadata": {},
   "outputs": [],
   "source": [
    "good = 0\n",
    "average_time = 0\n",
    "for i in range(0,100):\n",
    "    x = random.randint(0,2)\n",
    "    level = easy[x]\n",
    "    if (len(level)*len(level[0])<=50):\n",
    "        params = [300,600]\n",
    "    elif (len(level)*len(level[0])<=100):\n",
    "        params = [400,1000]\n",
    "    else:\n",
    "        params = [500, 1300]\n",
    "\n",
    "    num_genes = len(level)*len(level[0])\n",
    "    sol_per_pop = params[0]\n",
    "    num_parents_mating = params[0]//2\n",
    "    num_generations = params[1]\n",
    "    mutation_percent_genes = 4\n",
    "    keep_parents = 2\n",
    "\n",
    "    parent_selection_type = \"sss\"\n",
    "    crossover_type = \"single_point\"\n",
    "    mutation_type = \"random\"\n",
    "\n",
    "    ga_instance = pygad.GA(gene_space=gene_space,\n",
    "                        num_generations=num_generations,\n",
    "                        num_parents_mating=num_parents_mating,\n",
    "                        fitness_func=fitness_function,\n",
    "                        sol_per_pop=sol_per_pop,\n",
    "                        num_genes=num_genes,\n",
    "                        parent_selection_type=parent_selection_type,\n",
    "                        keep_parents=keep_parents,\n",
    "                        crossover_type=crossover_type,\n",
    "                        mutation_type=mutation_type,\n",
    "                        mutation_percent_genes=mutation_percent_genes)\n",
    "    start = time.time()\n",
    "    ga_instance.run()\n",
    "    end = time.time()\n",
    "    average_time += end-start\n",
    "    solution, solution_fitness, solution_idx = ga_instance.best_solution()\n",
    "    if (int(solution_fitness*-1)== easy_answer[x]):\n",
    "        good += 1\n",
    "    \n",
    "print(\"Accuracy: \" + str(round(good*100/100,2)))\n",
    "print(\"Average time: \" + str(average_time/100))"
   ]
  },
  {
   "attachments": {},
   "cell_type": "markdown",
   "metadata": {},
   "source": [
    "### 100 iterations with easy level inputs"
   ]
  },
  {
   "cell_type": "code",
   "execution_count": null,
   "metadata": {},
   "outputs": [
    {
     "ename": "IndexError",
     "evalue": "index 25 is out of bounds for axis 0 with size 25",
     "output_type": "error",
     "traceback": [
      "\u001b[1;31m---------------------------------------------------------------------------\u001b[0m",
      "\u001b[1;31mIndexError\u001b[0m                                Traceback (most recent call last)",
      "Cell \u001b[1;32mIn[26], line 7\u001b[0m\n\u001b[0;32m      5\u001b[0m level \u001b[39m=\u001b[39m normal[x]\n\u001b[0;32m      6\u001b[0m start \u001b[39m=\u001b[39m time\u001b[39m.\u001b[39mtime()\n\u001b[1;32m----> 7\u001b[0m ga_instance\u001b[39m.\u001b[39;49mrun()\n\u001b[0;32m      8\u001b[0m end \u001b[39m=\u001b[39m time\u001b[39m.\u001b[39mtime()\n\u001b[0;32m      9\u001b[0m average_time \u001b[39m+\u001b[39m\u001b[39m=\u001b[39m end\u001b[39m-\u001b[39mstart\n",
      "File \u001b[1;32mc:\\Users\\olewn\\AppData\\Local\\Programs\\Python\\Python310\\lib\\site-packages\\pygad\\pygad.py:1550\u001b[0m, in \u001b[0;36mGA.run\u001b[1;34m(self)\u001b[0m\n\u001b[0;32m   1547\u001b[0m     generation_last_idx \u001b[39m=\u001b[39m \u001b[39mself\u001b[39m\u001b[39m.\u001b[39mnum_generations\n\u001b[0;32m   1549\u001b[0m \u001b[39m# Measuring the fitness of each chromosome in the population. Save the fitness in the last_generation_fitness attribute.\u001b[39;00m\n\u001b[1;32m-> 1550\u001b[0m \u001b[39mself\u001b[39m\u001b[39m.\u001b[39mlast_generation_fitness \u001b[39m=\u001b[39m \u001b[39mself\u001b[39;49m\u001b[39m.\u001b[39;49mcal_pop_fitness()\n\u001b[0;32m   1552\u001b[0m best_solution, best_solution_fitness, best_match_idx \u001b[39m=\u001b[39m \u001b[39mself\u001b[39m\u001b[39m.\u001b[39mbest_solution(pop_fitness\u001b[39m=\u001b[39m\u001b[39mself\u001b[39m\u001b[39m.\u001b[39mlast_generation_fitness)\n\u001b[0;32m   1554\u001b[0m \u001b[39m# Appending the best solution in the initial population to the best_solutions list.\u001b[39;00m\n",
      "File \u001b[1;32mc:\\Users\\olewn\\AppData\\Local\\Programs\\Python\\Python310\\lib\\site-packages\\pygad\\pygad.py:1377\u001b[0m, in \u001b[0;36mGA.cal_pop_fitness\u001b[1;34m(self)\u001b[0m\n\u001b[0;32m   1374\u001b[0m \u001b[39melse\u001b[39;00m:\n\u001b[0;32m   1375\u001b[0m     \u001b[39m# Check if batch processing is used. If not, then calculate this missing fitness value.\u001b[39;00m\n\u001b[0;32m   1376\u001b[0m     \u001b[39mif\u001b[39;00m \u001b[39mself\u001b[39m\u001b[39m.\u001b[39mfitness_batch_size \u001b[39min\u001b[39;00m [\u001b[39m1\u001b[39m, \u001b[39mNone\u001b[39;00m]:\n\u001b[1;32m-> 1377\u001b[0m         fitness \u001b[39m=\u001b[39m \u001b[39mself\u001b[39;49m\u001b[39m.\u001b[39;49mfitness_func(sol, sol_idx)\n\u001b[0;32m   1378\u001b[0m         \u001b[39mif\u001b[39;00m \u001b[39mtype\u001b[39m(fitness) \u001b[39min\u001b[39;00m GA\u001b[39m.\u001b[39msupported_int_float_types:\n\u001b[0;32m   1379\u001b[0m             \u001b[39mpass\u001b[39;00m\n",
      "Cell \u001b[1;32mIn[20], line 9\u001b[0m, in \u001b[0;36mfitness_func\u001b[1;34m(solution, solution_idx)\u001b[0m\n\u001b[0;32m      7\u001b[0m \u001b[39mfor\u001b[39;00m i \u001b[39min\u001b[39;00m \u001b[39mrange\u001b[39m(\u001b[39m0\u001b[39m,\u001b[39mlen\u001b[39m(board)):\n\u001b[0;32m      8\u001b[0m     \u001b[39mfor\u001b[39;00m j \u001b[39min\u001b[39;00m \u001b[39mrange\u001b[39m(\u001b[39m0\u001b[39m,\u001b[39mlen\u001b[39m(board[\u001b[39m0\u001b[39m])):\n\u001b[1;32m----> 9\u001b[0m         \u001b[39mif\u001b[39;00m(solution[\u001b[39mid\u001b[39;49m]\u001b[39m==\u001b[39m\u001b[39m1\u001b[39m \u001b[39mand\u001b[39;00m board[i][j]\u001b[39m==\u001b[39m\u001b[39m\"\u001b[39m\u001b[39mB\u001b[39m\u001b[39m\"\u001b[39m):\n\u001b[0;32m     10\u001b[0m             fitness \u001b[39m+\u001b[39m\u001b[39m=\u001b[39m \u001b[39m1\u001b[39m\n\u001b[0;32m     11\u001b[0m             \u001b[39mcontinue\u001b[39;00m\n",
      "\u001b[1;31mIndexError\u001b[0m: index 25 is out of bounds for axis 0 with size 25"
     ]
    }
   ],
   "source": [
    "good = 0\n",
    "average_time = 0\n",
    "for i in range(0,100):\n",
    "    x = random.randint(0,2)\n",
    "    level = normal[x]\n",
    "    if (len(level)*len(level[0])<=50):\n",
    "        params = [300,600]\n",
    "    elif (len(level)*len(level[0])<=100):\n",
    "        params = [400,1000]\n",
    "    else:\n",
    "        params = [500, 1300]\n",
    "\n",
    "    num_genes = len(level)*len(level[0])\n",
    "    sol_per_pop = params[0]\n",
    "    num_parents_mating = params[0]//2\n",
    "    num_generations = params[1]\n",
    "    mutation_percent_genes = 4\n",
    "    keep_parents = 2\n",
    "\n",
    "    parent_selection_type = \"sss\"\n",
    "    crossover_type = \"single_point\"\n",
    "    mutation_type = \"random\"\n",
    "\n",
    "    ga_instance = pygad.GA(gene_space=gene_space,\n",
    "                        num_generations=num_generations,\n",
    "                        num_parents_mating=num_parents_mating,\n",
    "                        fitness_func=fitness_function,\n",
    "                        sol_per_pop=sol_per_pop,\n",
    "                        num_genes=num_genes,\n",
    "                        parent_selection_type=parent_selection_type,\n",
    "                        keep_parents=keep_parents,\n",
    "                        crossover_type=crossover_type,\n",
    "                        mutation_type=mutation_type,\n",
    "                        mutation_percent_genes=mutation_percent_genes)\n",
    "    start = time.time()\n",
    "    ga_instance.run()\n",
    "    end = time.time()\n",
    "    average_time += end-start\n",
    "    solution, solution_fitness, solution_idx = ga_instance.best_solution()\n",
    "    if (int(solution_fitness*-1)== normal_answer[x]):\n",
    "        good += 1\n",
    "    \n",
    "print(\"Accuracy: \" + str(round(good*100/100,2)))\n",
    "print(\"Average time: \" + str(average_time/100))"
   ]
  },
  {
   "attachments": {},
   "cell_type": "markdown",
   "metadata": {},
   "source": [
    "### 100 iterations with medium level inputs"
   ]
  },
  {
   "cell_type": "code",
   "execution_count": null,
   "metadata": {},
   "outputs": [],
   "source": [
    "good = 0\n",
    "average_time = 0\n",
    "for i in range(0,100):\n",
    "    x = random.randint(0,2)\n",
    "    level = hard[x]\n",
    "    if (len(level)*len(level[0])<=50):\n",
    "        params = [300,600]\n",
    "    elif (len(level)*len(level[0])<=100):\n",
    "        params = [400,1000]\n",
    "    else:\n",
    "        params = [500, 1300]\n",
    "\n",
    "    num_genes = len(level)*len(level[0])\n",
    "    sol_per_pop = params[0]\n",
    "    num_parents_mating = params[0]//2\n",
    "    num_generations = params[1]\n",
    "    mutation_percent_genes = 4\n",
    "    keep_parents = 2\n",
    "\n",
    "    parent_selection_type = \"sss\"\n",
    "    crossover_type = \"single_point\"\n",
    "    mutation_type = \"random\"\n",
    "\n",
    "    ga_instance = pygad.GA(gene_space=gene_space,\n",
    "                        num_generations=num_generations,\n",
    "                        num_parents_mating=num_parents_mating,\n",
    "                        fitness_func=fitness_function,\n",
    "                        sol_per_pop=sol_per_pop,\n",
    "                        num_genes=num_genes,\n",
    "                        parent_selection_type=parent_selection_type,\n",
    "                        keep_parents=keep_parents,\n",
    "                        crossover_type=crossover_type,\n",
    "                        mutation_type=mutation_type,\n",
    "                        mutation_percent_genes=mutation_percent_genes)\n",
    "    start = time.time()\n",
    "    ga_instance.run()\n",
    "    end = time.time()\n",
    "    average_time += end-start\n",
    "    solution, solution_fitness, solution_idx = ga_instance.best_solution()\n",
    "    if (int(solution_fitness*-1)== hard_answer[x]):\n",
    "        good += 1\n",
    "    \n",
    "print(\"Accuracy: \" + str(round(good*100/100,2)))\n",
    "print(\"Average time: \" + str(average_time/100))"
   ]
  },
  {
   "attachments": {},
   "cell_type": "markdown",
   "metadata": {},
   "source": [
    "### 100 iterations with hard level inputs"
   ]
  },
  {
   "cell_type": "code",
   "execution_count": null,
   "metadata": {},
   "outputs": [],
   "source": [
    "solution, solution_fitness, solution_idx = ga_instance.best_solution()\n",
    "matrix = board_final(solution)\n",
    "print('\\n'.join(['\\t'.join([str(cell) for cell in row]) for row in matrix]))\n",
    "ga_instance.plot_fitness()"
   ]
  },
  {
   "attachments": {},
   "cell_type": "markdown",
   "metadata": {},
   "source": [
    "### There we have the graphic code of how the algorithm works. Firstly, it shows how algorithm placed bulbs and second shows how algorithm was evolving through generations."
   ]
  },
  {
   "attachments": {},
   "cell_type": "markdown",
   "metadata": {},
   "source": [
    "# To sum up, this algorithm works but it consumes a lot of time. Fitness function is complicated but without any of those lines it would not work perfectly."
   ]
  }
 ],
 "metadata": {
  "kernelspec": {
   "display_name": "Python 3",
   "language": "python",
   "name": "python3"
  },
  "language_info": {
   "codemirror_mode": {
    "name": "ipython",
    "version": 3
   },
   "file_extension": ".py",
   "mimetype": "text/x-python",
   "name": "python",
   "nbconvert_exporter": "python",
   "pygments_lexer": "ipython3",
   "version": "3.10.1"
  },
  "orig_nbformat": 4
 },
 "nbformat": 4,
 "nbformat_minor": 2
}
